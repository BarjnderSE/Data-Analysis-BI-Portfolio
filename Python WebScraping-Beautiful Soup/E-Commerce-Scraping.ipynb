{
 "cells": [
  {
   "cell_type": "code",
   "execution_count": 7,
   "id": "63a21a04-9844-4fc9-9e0a-140c0f44ada5",
   "metadata": {},
   "outputs": [
    {
     "name": "stdout",
     "output_type": "stream",
     "text": [
      "200\n"
     ]
    }
   ],
   "source": [
    "import requests\n",
    "from bs4 import BeautifulSoup\n",
    "\n",
    "\n",
    "url = \"https://webscraper.io/test-sites/e-commerce/allinone\"\n",
    "\n",
    "r = requests.get(url)\n",
    "print(r.status_code) \n"
   ]
  },
  {
   "cell_type": "code",
   "execution_count": 9,
   "id": "1706771c-fc45-4848-b35b-01c023d1f8fb",
   "metadata": {},
   "outputs": [
    {
     "name": "stdout",
     "output_type": "stream",
     "text": [
      "Collecting lxml\n",
      "  Downloading lxml-5.3.0-cp313-cp313-win_amd64.whl.metadata (3.9 kB)\n",
      "Downloading lxml-5.3.0-cp313-cp313-win_amd64.whl (3.8 MB)\n",
      "   ---------------------------------------- 0.0/3.8 MB ? eta -:--:--\n",
      "   -------------------------------- ------- 3.1/3.8 MB 20.2 MB/s eta 0:00:01\n",
      "   ---------------------------------------- 3.8/3.8 MB 17.4 MB/s eta 0:00:00\n",
      "Installing collected packages: lxml\n",
      "Successfully installed lxml-5.3.0\n",
      "Note: you may need to restart the kernel to use updated packages.\n"
     ]
    }
   ],
   "source": [
    "pip install lxml\n"
   ]
  },
  {
   "cell_type": "code",
   "execution_count": 10,
   "id": "0ada7694-5366-48e9-aaa2-a3c28f098527",
   "metadata": {},
   "outputs": [],
   "source": [
    "from bs4 import BeautifulSoup\n",
    "import lxml"
   ]
  },
  {
   "cell_type": "code",
   "execution_count": 4,
   "id": "574c8221-36c0-41e7-85be-b2894e228f2c",
   "metadata": {},
   "outputs": [
    {
     "name": "stdout",
     "output_type": "stream",
     "text": [
      "<!DOCTYPE html>\n",
      "<html lang=\"en\">\n",
      " <head>\n",
      "  <!-- Google Tag Manager -->\n",
      "  <script nonce=\"wWpBZWUxx5jFKcbRkxEnEEsYKQg42U7f\">\n",
      "   (function (w, d, s, l, i) {\n",
      "\t\tw[l] = w[l] || [];\n",
      "\t\tw[l].push({\n",
      "\t\t\t'gtm.start':\n",
      "\t\t\t\tnew Date().getTime(), event: 'gtm.js'\n",
      "\t\t});\n",
      "\t\tvar f = d.getElementsByTagName(s)[0],\n",
      "\t\t\tj = d.createElement(s), dl = l != 'dataLayer' ? '&l=' + l : '';\n",
      "\t\tj.async = true;\n",
      "\t\tj.src =\n",
      "\t\t\t'https://www.googletagmanager.com/gtm.js?id=' + i + dl;\n",
      "\t\tf.parentNode.insertBefore(j, f);\n",
      "\t})(window, document, 'script', 'dataLayer', 'GTM-NVFPDWB');\n",
      "  </script>\n",
      "  <!-- End Google Tag Manager -->\n",
      "  <title>\n",
      "   Allinone | Web Scraper Test Sites\n",
      "  </title>\n",
      "  <meta charset=\"utf-8\"/>\n",
      "  <meta content=\"IE=edge,chrome=1\" http-equiv=\"X-UA-Compatible\"/>\n",
      "  <meta content=\"web scraping,Web Scraper,Chrome extension,Crawling,Cross platform scraper\" name=\"keywords\"/>\n",
      "  <meta content=\"The most popular web scraping extension. Start scraping in minutes. Automate your tasks with our Cloud Scraper. No software to download, no coding needed.\" name=\"description\"/>\n",
      "  <link href=\"/favicon.png\" rel=\"icon\" sizes=\"128x128\"/>\n",
      "  <meta content=\"width=device-width, initial-scale=1.0\" name=\"viewport\"/>\n",
      "  <link href=\"https://fonts.googleapis.com\" rel=\"preconnect\"/>\n",
      "  <link crossorigin=\"\" href=\"https://fonts.gstatic.com\" rel=\"preconnect\"/>\n",
      "  <link href=\"https://fonts.googleapis.com/css2?family=Roboto:wght@400;500;600&amp;display=swap\" rel=\"stylesheet\"/>\n",
      "  <link href=\"https://fonts.googleapis.com/css2?family=Montserrat:wght@300;400;500;600;700;900&amp;display=swap\" rel=\"stylesheet\"/>\n",
      "  <link href=\"/css/app.css?id=27e489f6a16ba172752249d454053a2a\" rel=\"stylesheet\"/>\n",
      "  <link href=\"/css/ws-icons.font.css?id=8f2c6b77e3c33bbc1183eeae2ae24269\" rel=\"stylesheet\"/>\n",
      "  <link href=\"https://webscraper.io/test-sites/e-commerce/allinone\" rel=\"canonical\"/>\n",
      "  <link href=\"/img/logo-icon.png\" rel=\"apple-touch-icon\"/>\n",
      "  <script defer=\"\" src=\"/js/app.js?id=a50a1127238ba3432d5a265183ff9557\">\n",
      "  </script>\n",
      " </head>\n",
      " <body>\n",
      "  <!-- Google Tag Manager (noscript) -->\n",
      "  <noscript>\n",
      "   <iframe height=\"0\" src=\"https://www.googletagmanager.com/ns.html?id=GTM-NVFPDWB\" style=\"display:none;visibility:hidden\" width=\"0\">\n",
      "   </iframe>\n",
      "  </noscript>\n",
      "  <!-- End Google Tag Manager (noscript) -->\n",
      "  <header class=\"navbar fixed-top navbar-expand-lg navbar-dark navbar-static svg-background\" id=\"navbar-top\" role=\"banner\">\n",
      "   <div class=\"container\">\n",
      "    <div class=\"navbar-header\">\n",
      "     <a data-bs-target=\".side-collapse\" data-bs-target-2=\".side-collapse-container\" data-bs-toggle=\"collapse-side\">\n",
      "      <button aria-controls=\"navbar\" aria-expanded=\"false\" class=\"navbar-toggler float-end collapsed\" data-bs-target=\"#navbar\" data-bs-target-2=\".side-collapse-container\" data-bs-target-3=\".side-collapse\" data-bs-toggle=\"collapse\" type=\"button\">\n",
      "       <span class=\"visually-hidden\">\n",
      "        Toggle navigation\n",
      "       </span>\n",
      "       <span class=\"icon-bar top-bar\">\n",
      "       </span>\n",
      "       <span class=\"icon-bar middle-bar\">\n",
      "       </span>\n",
      "       <span class=\"icon-bar bottom-bar\">\n",
      "       </span>\n",
      "       <span class=\"icon-bar extra-bottom-bar\">\n",
      "       </span>\n",
      "      </button>\n",
      "     </a>\n",
      "     <div class=\"navbar-brand\">\n",
      "      <a href=\"/\">\n",
      "       <img alt=\"Web Scraper\" src=\"/img/logo_white.svg\"/>\n",
      "      </a>\n",
      "     </div>\n",
      "    </div>\n",
      "    <div class=\"side-collapse in\">\n",
      "     <nav class=\"navbar-collapse collapse\" id=\"navbar\" role=\"navigation\">\n",
      "      <ul class=\"nav navbar-nav navbar-right\">\n",
      "       <li class=\"nav-item\">\n",
      "        <a class=\"nav-link menuitm\" href=\"/\">\n",
      "         <p>\n",
      "          Web Scraper\n",
      "         </p>\n",
      "         <div class=\"crta\">\n",
      "         </div>\n",
      "        </a>\n",
      "       </li>\n",
      "       <li class=\"nav-item\">\n",
      "        <a class=\"nav-link menuitm\" href=\"/cloud-scraper\" id=\"cloud-nav-link\">\n",
      "         <p>\n",
      "          Cloud Scraper\n",
      "         </p>\n",
      "         <div class=\"crta\">\n",
      "         </div>\n",
      "        </a>\n",
      "       </li>\n",
      "       <li class=\"nav-item\">\n",
      "        <a class=\"nav-link menuitm\" href=\"/pricing\" id=\"pricing-nav-link\">\n",
      "         <p>\n",
      "          Pricing\n",
      "         </p>\n",
      "         <div class=\"crta\">\n",
      "         </div>\n",
      "        </a>\n",
      "       </li>\n",
      "       <li class=\"nav-item dropdown\">\n",
      "        <button aria-expanded=\"false\" aria-haspopup=\"true\" class=\"menuitm nav-link dropdown-toggle\" data-bs-toggle=\"dropdown\" id=\"dropdownMenuLink\" role=\"button\">\n",
      "         <p>\n",
      "          Learn\n",
      "         </p>\n",
      "         <span class=\"crta\">\n",
      "         </span>\n",
      "        </button>\n",
      "        <ul aria-labelledby=\"dropdownMenuLink\" class=\"dropdown-menu\">\n",
      "         <li>\n",
      "          <a class=\"dropdown-item\" href=\"/documentation\">\n",
      "           Documentation\n",
      "          </a>\n",
      "         </li>\n",
      "         <li>\n",
      "          <a class=\"dropdown-item\" href=\"/tutorials\">\n",
      "           Video Tutorials\n",
      "          </a>\n",
      "         </li>\n",
      "         <li>\n",
      "          <a class=\"dropdown-item\" href=\"/how-to-videos\">\n",
      "           How to\n",
      "          </a>\n",
      "         </li>\n",
      "         <li>\n",
      "          <a class=\"dropdown-item\" href=\"/test-sites\">\n",
      "           Test Sites\n",
      "          </a>\n",
      "         </li>\n",
      "         <li>\n",
      "          <a class=\"dropdown-item\" href=\"https://forum.webscraper.io/\" rel=\"noopener\" target=\"_blank\">\n",
      "           Forum\n",
      "          </a>\n",
      "         </li>\n",
      "        </ul>\n",
      "       </li>\n",
      "       <li class=\"nav-item\">\n",
      "        <a class=\"nav-link btn-menu1 install-extension\" href=\"https://chromewebstore.google.com/detail/web-scraper-free-web-scra/jnhgnonknehpejjnehehllkliplmbmhn?hl=en\" target=\"_blank\">\n",
      "         Install\n",
      "        </a>\n",
      "       </li>\n",
      "       <li class=\"nav-item\">\n",
      "        <a class=\"nav-link btn-menu2\" href=\"https://cloud.webscraper.io/\">\n",
      "         Cloud Login\n",
      "        </a>\n",
      "       </li>\n",
      "      </ul>\n",
      "     </nav>\n",
      "    </div>\n",
      "   </div>\n",
      "  </header>\n",
      "  <div class=\"wrapper\">\n",
      "   <div class=\"formenu-here container-fluid\">\n",
      "   </div>\n",
      "   <div class=\"container-fluid blog-hero\">\n",
      "    <div class=\"container\">\n",
      "     <div class=\"row\">\n",
      "      <div class=\"col-lg-12\">\n",
      "       <h1>\n",
      "        Test Sites\n",
      "       </h1>\n",
      "      </div>\n",
      "     </div>\n",
      "    </div>\n",
      "   </div>\n",
      "   <div class=\"container test-site\">\n",
      "    <div class=\"row\">\n",
      "     <div class=\"col-lg-3 sidebar\">\n",
      "      <div class=\"navbar-light sidebar\" role=\"navigation\">\n",
      "       <div class=\"sidebar-nav navbar-collapse\">\n",
      "        <ul class=\"nav flex-column\" id=\"side-menu\">\n",
      "         <li class=\"nav-item active\">\n",
      "          <a class=\"nav-link\" href=\"/test-sites/e-commerce/allinone\">\n",
      "           Home\n",
      "          </a>\n",
      "         </li>\n",
      "         <li class=\"nav-item\">\n",
      "          <a aria-label=\"Navigation category\" class=\"category-link nav-link\" href=\"/test-sites/e-commerce/allinone/computers\">\n",
      "           Computers\n",
      "           <i aria-hidden=\"true\" class=\"ws-icon ws-icon-right\">\n",
      "           </i>\n",
      "          </a>\n",
      "         </li>\n",
      "         <li class=\"nav-item\">\n",
      "          <a aria-label=\"Navigation category\" class=\"category-link nav-link\" href=\"/test-sites/e-commerce/allinone/phones\">\n",
      "           Phones\n",
      "           <i aria-hidden=\"true\" class=\"ws-icon ws-icon-right\">\n",
      "           </i>\n",
      "          </a>\n",
      "         </li>\n",
      "        </ul>\n",
      "       </div>\n",
      "      </div>\n",
      "     </div>\n",
      "     <div class=\"col-lg-9\">\n",
      "      <div class=\"jumbotron\">\n",
      "       <h2>\n",
      "        E-commerce training site\n",
      "       </h2>\n",
      "       <p class=\"lead\">\n",
      "        Welcome to WebScraper e-commerce site. You can use this site for training\n",
      "\t\t\tto learn how to use the Web Scraper. Items listed here are not for sale.\n",
      "       </p>\n",
      "      </div>\n",
      "      <h3>\n",
      "       Top items being scraped right now\n",
      "      </h3>\n",
      "      <div class=\"row\">\n",
      "       <div class=\"col-md-4 col-xl-4 col-lg-4\">\n",
      "        <div class=\"card thumbnail\">\n",
      "         <div class=\"product-wrapper card-body\">\n",
      "          <img alt=\"item\" class=\"img-fluid card-img-top image img-responsive\" src=\"/images/test-sites/e-commerce/items/cart2.png\"/>\n",
      "          <div class=\"caption\">\n",
      "           <h4 class=\"price float-end card-title pull-right\">\n",
      "            $899.99\n",
      "           </h4>\n",
      "           <h4>\n",
      "            <a class=\"title\" href=\"/test-sites/e-commerce/allinone/product/9\" title=\"Iphone\">\n",
      "             Iphone\n",
      "            </a>\n",
      "           </h4>\n",
      "           <p class=\"description card-text\">\n",
      "            Black\n",
      "           </p>\n",
      "          </div>\n",
      "          <div class=\"ratings\">\n",
      "           <p class=\"review-count float-end\">\n",
      "            1 reviews\n",
      "           </p>\n",
      "           <p data-rating=\"1\">\n",
      "            <span class=\"ws-icon ws-icon-star\">\n",
      "            </span>\n",
      "           </p>\n",
      "          </div>\n",
      "         </div>\n",
      "        </div>\n",
      "       </div>\n",
      "       <div class=\"col-md-4 col-xl-4 col-lg-4\">\n",
      "        <div class=\"card thumbnail\">\n",
      "         <div class=\"product-wrapper card-body\">\n",
      "          <img alt=\"item\" class=\"img-fluid card-img-top image img-responsive\" src=\"/images/test-sites/e-commerce/items/cart2.png\"/>\n",
      "          <div class=\"caption\">\n",
      "           <h4 class=\"price float-end card-title pull-right\">\n",
      "            $379.94\n",
      "           </h4>\n",
      "           <h4>\n",
      "            <a class=\"title\" href=\"/test-sites/e-commerce/allinone/product/67\" title=\"Acer Aspire A315-31-C33J\">\n",
      "             Acer Aspire A3...\n",
      "            </a>\n",
      "           </h4>\n",
      "           <p class=\"description card-text\">\n",
      "            Acer Aspire A315-31-C33J Black 15.6\", HD, Celeron N3350, 4GB DDR3L, 128GB, Windows 10 Home, ENG\n",
      "           </p>\n",
      "          </div>\n",
      "          <div class=\"ratings\">\n",
      "           <p class=\"review-count float-end\">\n",
      "            0 reviews\n",
      "           </p>\n",
      "           <p data-rating=\"2\">\n",
      "            <span class=\"ws-icon ws-icon-star\">\n",
      "            </span>\n",
      "            <span class=\"ws-icon ws-icon-star\">\n",
      "            </span>\n",
      "           </p>\n",
      "          </div>\n",
      "         </div>\n",
      "        </div>\n",
      "       </div>\n",
      "       <div class=\"col-md-4 col-xl-4 col-lg-4\">\n",
      "        <div class=\"card thumbnail\">\n",
      "         <div class=\"product-wrapper card-body\">\n",
      "          <img alt=\"item\" class=\"img-fluid card-img-top image img-responsive\" src=\"/images/test-sites/e-commerce/items/cart2.png\"/>\n",
      "          <div class=\"caption\">\n",
      "           <h4 class=\"price float-end card-title pull-right\">\n",
      "            $1310.39\n",
      "           </h4>\n",
      "           <h4>\n",
      "            <a class=\"title\" href=\"/test-sites/e-commerce/allinone/product/136\" title=\"Dell Latitude 5480\">\n",
      "             Dell Latitude...\n",
      "            </a>\n",
      "           </h4>\n",
      "           <p class=\"description card-text\">\n",
      "            Dell Latitude 5480, 14\" FHD, Core i7-7600U, 8GB, 256GB SSD, Windows 10 Pro\n",
      "           </p>\n",
      "          </div>\n",
      "          <div class=\"ratings\">\n",
      "           <p class=\"review-count float-end\">\n",
      "            8 reviews\n",
      "           </p>\n",
      "           <p data-rating=\"3\">\n",
      "            <span class=\"ws-icon ws-icon-star\">\n",
      "            </span>\n",
      "            <span class=\"ws-icon ws-icon-star\">\n",
      "            </span>\n",
      "            <span class=\"ws-icon ws-icon-star\">\n",
      "            </span>\n",
      "           </p>\n",
      "          </div>\n",
      "         </div>\n",
      "        </div>\n",
      "       </div>\n",
      "      </div>\n",
      "      <div id=\"static-pagination\">\n",
      "      </div>\n",
      "     </div>\n",
      "    </div>\n",
      "   </div>\n",
      "   <div class=\"clearfix\">\n",
      "   </div>\n",
      "   <div class=\"push\">\n",
      "   </div>\n",
      "  </div>\n",
      "  <div class=\"container-fluid footer\" id=\"layout-footer\">\n",
      "   <div class=\"container\">\n",
      "    <div class=\"row\">\n",
      "     <div class=\"col-lg-3\">\n",
      "      <ul>\n",
      "       <li>\n",
      "        <p>\n",
      "         Products\n",
      "        </p>\n",
      "       </li>\n",
      "       <li>\n",
      "        <a href=\"/\">\n",
      "         Web Scraper browser extension\n",
      "        </a>\n",
      "       </li>\n",
      "       <li>\n",
      "        <a href=\"/cloud-scraper\">\n",
      "         Web Scraper Cloud\n",
      "        </a>\n",
      "       </li>\n",
      "      </ul>\n",
      "     </div>\n",
      "     <div class=\"col-lg-3\">\n",
      "      <ul>\n",
      "       <li>\n",
      "        <p>\n",
      "         Company\n",
      "        </p>\n",
      "       </li>\n",
      "       <li>\n",
      "        <a href=\"/about-us\">\n",
      "         About us\n",
      "        </a>\n",
      "       </li>\n",
      "       <li>\n",
      "        <a href=\"/contact\">\n",
      "         Contact\n",
      "        </a>\n",
      "       </li>\n",
      "       <li>\n",
      "        <a href=\"/privacy-policy\">\n",
      "         Website Privacy Policy\n",
      "        </a>\n",
      "       </li>\n",
      "       <li>\n",
      "        <a href=\"/extension-privacy-policy\">\n",
      "         Browser Extension Privacy Policy\n",
      "        </a>\n",
      "       </li>\n",
      "       <li>\n",
      "        <a href=\"https://webscraper.io/downloads/Web_Scraper_Media_Kit.zip\">\n",
      "         Media kit\n",
      "        </a>\n",
      "       </li>\n",
      "       <li>\n",
      "        <a href=\"/jobs\">\n",
      "         Jobs\n",
      "        </a>\n",
      "       </li>\n",
      "      </ul>\n",
      "     </div>\n",
      "     <div class=\"col-lg-3\">\n",
      "      <ul>\n",
      "       <li>\n",
      "        <p>\n",
      "         Resources\n",
      "        </p>\n",
      "       </li>\n",
      "       <li>\n",
      "        <a href=\"/blog\">\n",
      "         Blog\n",
      "        </a>\n",
      "       </li>\n",
      "       <li>\n",
      "        <a href=\"/documentation\">\n",
      "         Documentation\n",
      "        </a>\n",
      "       </li>\n",
      "       <li>\n",
      "        <a href=\"/tutorials\">\n",
      "         Video Tutorials\n",
      "        </a>\n",
      "       </li>\n",
      "       <li>\n",
      "        <a href=\"/screenshots\">\n",
      "         Screenshots\n",
      "        </a>\n",
      "       </li>\n",
      "       <li>\n",
      "        <a href=\"/test-sites\">\n",
      "         Test Sites\n",
      "        </a>\n",
      "       </li>\n",
      "       <li>\n",
      "        <a href=\"https://forum.webscraper.io/\" rel=\"noopener\" target=\"_blank\">\n",
      "         Forum\n",
      "        </a>\n",
      "       </li>\n",
      "       <li>\n",
      "        <a href=\"https://status.webscraper.io/\" rel=\"noopener\" target=\"_blank\">\n",
      "         Status\n",
      "        </a>\n",
      "       </li>\n",
      "      </ul>\n",
      "     </div>\n",
      "     <div class=\"col-lg-3\">\n",
      "      <ul>\n",
      "       <li>\n",
      "        <p>\n",
      "         CONTACT US\n",
      "        </p>\n",
      "       </li>\n",
      "       <li>\n",
      "        <a href=\"mailto:info@webscraper.io\">\n",
      "         info@webscraper.io\n",
      "        </a>\n",
      "       </li>\n",
      "       <li>\n",
      "        Ubelu 5-71,\n",
      "        <br/>\n",
      "        Adazi, Latvia, LV-2164\n",
      "       </li>\n",
      "      </ul>\n",
      "      <ul class=\"smedia\">\n",
      "       <li>\n",
      "        <a aria-label=\"Web Scraper on Facebook\" href=\"https://www.facebook.com/webscraperio/\" rel=\"noopener\" target=\"_blank\">\n",
      "         <i class=\"ws-icon ws-icon-facebook-f\">\n",
      "         </i>\n",
      "        </a>\n",
      "       </li>\n",
      "       <li>\n",
      "        <a aria-label=\"Web Scraper on X\" href=\"https://twitter.com/webscraperio\" rel=\"noopener\" target=\"_blank\">\n",
      "         <i class=\"ws-icon ws-icon-twitter\">\n",
      "         </i>\n",
      "        </a>\n",
      "       </li>\n",
      "       <li>\n",
      "        <a aria-label=\"Web Scraper on LinkedIn\" href=\"https://lv.linkedin.com/company/web-scraper\" rel=\"noopener\" target=\"_blank\">\n",
      "         <i class=\"ws-icon ws-icon-linkedin\">\n",
      "         </i>\n",
      "        </a>\n",
      "       </li>\n",
      "       <li>\n",
      "        <a aria-label=\"Web Scraper on Youtube\" href=\"https://youtube.com/@WebScraper/videos\" rel=\"noopener\" target=\"_blank\">\n",
      "         <i class=\"ws-icon ws-icon-youtube\">\n",
      "         </i>\n",
      "        </a>\n",
      "       </li>\n",
      "       <li>\n",
      "        <a aria-label=\"Download the Web Scraper extension\" class=\"install-extension browser-icon-dark\" href=\"https://chromewebstore.google.com/detail/web-scraper-free-web-scra/jnhgnonknehpejjnehehllkliplmbmhn?hl=en\" rel=\"noopener\" target=\"_blank\">\n",
      "         <i class=\"ws-icon ws-icon-chrome-dark\">\n",
      "         </i>\n",
      "        </a>\n",
      "       </li>\n",
      "      </ul>\n",
      "     </div>\n",
      "    </div>\n",
      "    <div class=\"row\">\n",
      "     <div class=\"col-lg-12\">\n",
      "      <p class=\"copyright\">\n",
      "       Copyright &amp;copy 2024\n",
      "       <b>\n",
      "        Web Scraper\n",
      "       </b>\n",
      "       | All rights reserved\n",
      "      </p>\n",
      "     </div>\n",
      "    </div>\n",
      "   </div>\n",
      "  </div>\n",
      " </body>\n",
      "</html>\n",
      "\n"
     ]
    }
   ],
   "source": [
    "import requests\n",
    "from bs4 import BeautifulSoup\n",
    "\n",
    "# Send a request to the target URL\n",
    "url = \"https://webscraper.io/test-sites/e-commerce/allinone\"\n",
    "r = requests.get(url)\n",
    "\n",
    "# Parse the response content with BeautifulSoup and lxml\n",
    "soup = BeautifulSoup(r.text, \"lxml\")\n",
    "\n",
    "# Print the parsed content (or specific parts of it)\n",
    "print(soup.prettify())\n"
   ]
  },
  {
   "cell_type": "code",
   "execution_count": 5,
   "id": "df589ce1-2a70-488b-95d7-afbc453fed41",
   "metadata": {},
   "outputs": [
    {
     "name": "stdout",
     "output_type": "stream",
     "text": [
      "<div class=\"container\">\n",
      "<div class=\"navbar-header\">\n",
      "<a data-bs-target=\".side-collapse\" data-bs-target-2=\".side-collapse-container\" data-bs-toggle=\"collapse-side\">\n",
      "<button aria-controls=\"navbar\" aria-expanded=\"false\" class=\"navbar-toggler float-end collapsed\" data-bs-target=\"#navbar\" data-bs-target-2=\".side-collapse-container\" data-bs-target-3=\".side-collapse\" data-bs-toggle=\"collapse\" type=\"button\">\n",
      "<span class=\"visually-hidden\">Toggle navigation</span>\n",
      "<span class=\"icon-bar top-bar\"></span>\n",
      "<span class=\"icon-bar middle-bar\"></span>\n",
      "<span class=\"icon-bar bottom-bar\"></span>\n",
      "<span class=\"icon-bar extra-bottom-bar\"></span>\n",
      "</button>\n",
      "</a>\n",
      "<div class=\"navbar-brand\">\n",
      "<a href=\"/\"><img alt=\"Web Scraper\" src=\"/img/logo_white.svg\"/></a>\n",
      "</div>\n",
      "</div>\n",
      "<div class=\"side-collapse in\">\n",
      "<nav class=\"navbar-collapse collapse\" id=\"navbar\" role=\"navigation\">\n",
      "<ul class=\"nav navbar-nav navbar-right\">\n",
      "<li class=\"nav-item\">\n",
      "<a class=\"nav-link menuitm\" href=\"/\">\n",
      "<p>Web Scraper</p>\n",
      "<div class=\"crta\"></div>\n",
      "</a>\n",
      "</li>\n",
      "<li class=\"nav-item\">\n",
      "<a class=\"nav-link menuitm\" href=\"/cloud-scraper\" id=\"cloud-nav-link\">\n",
      "<p>Cloud Scraper</p>\n",
      "<div class=\"crta\"></div>\n",
      "</a>\n",
      "</li>\n",
      "<li class=\"nav-item\">\n",
      "<a class=\"nav-link menuitm\" href=\"/pricing\" id=\"pricing-nav-link\">\n",
      "<p>Pricing</p>\n",
      "<div class=\"crta\"></div>\n",
      "</a>\n",
      "</li>\n",
      "<li class=\"nav-item dropdown\">\n",
      "<button aria-expanded=\"false\" aria-haspopup=\"true\" class=\"menuitm nav-link dropdown-toggle\" data-bs-toggle=\"dropdown\" id=\"dropdownMenuLink\" role=\"button\">\n",
      "<p>Learn</p>\n",
      "<span class=\"crta\"></span>\n",
      "</button>\n",
      "<ul aria-labelledby=\"dropdownMenuLink\" class=\"dropdown-menu\">\n",
      "<li>\n",
      "<a class=\"dropdown-item\" href=\"/documentation\">Documentation</a>\n",
      "</li>\n",
      "<li>\n",
      "<a class=\"dropdown-item\" href=\"/tutorials\">Video Tutorials</a>\n",
      "</li>\n",
      "<li>\n",
      "<a class=\"dropdown-item\" href=\"/how-to-videos\">How to</a>\n",
      "</li>\n",
      "<li>\n",
      "<a class=\"dropdown-item\" href=\"/test-sites\">Test Sites</a>\n",
      "</li>\n",
      "<li>\n",
      "<a class=\"dropdown-item\" href=\"https://forum.webscraper.io/\" rel=\"noopener\" target=\"_blank\">Forum</a>\n",
      "</li>\n",
      "</ul>\n",
      "</li>\n",
      "<li class=\"nav-item\">\n",
      "<a class=\"nav-link btn-menu1 install-extension\" href=\"https://chromewebstore.google.com/detail/web-scraper-free-web-scra/jnhgnonknehpejjnehehllkliplmbmhn?hl=en\" target=\"_blank\">Install</a>\n",
      "</li>\n",
      "<li class=\"nav-item\">\n",
      "<a class=\"nav-link btn-menu2\" href=\"https://cloud.webscraper.io/\">Cloud Login</a>\n",
      "</li>\n",
      "</ul>\n",
      "</nav>\n",
      "</div>\n",
      "</div>\n"
     ]
    }
   ],
   "source": [
    "# FOR DIV TAGS\n",
    "soup = BeautifulSoup(r.text,\"lxml\")\n",
    "print(soup.div)"
   ]
  },
  {
   "cell_type": "code",
   "execution_count": 6,
   "id": "814c5680-66a6-4ecf-9330-ebd01b1c552a",
   "metadata": {},
   "outputs": [
    {
     "name": "stdout",
     "output_type": "stream",
     "text": [
      "<p>Web Scraper</p>\n"
     ]
    }
   ],
   "source": [
    "# attributes\n",
    "soup = BeautifulSoup(r.text,\"lxml\")\n",
    "#print(soup.div.ul)\n",
    "#print(soup.div.li)\n",
    "print(soup.div.p)"
   ]
  },
  {
   "cell_type": "code",
   "execution_count": 7,
   "id": "071c41e8-73e7-4929-a453-7a7aede05081",
   "metadata": {},
   "outputs": [
    {
     "name": "stdout",
     "output_type": "stream",
     "text": [
      "{'class': ['container']}\n"
     ]
    }
   ],
   "source": [
    "soup = BeautifulSoup(r.text,\"lxml\")\n",
    "tag = soup.div\n",
    "print(tag.attrs)"
   ]
  },
  {
   "cell_type": "code",
   "execution_count": 8,
   "id": "4aca2ee1-58c1-4d9b-95a7-104a9413aceb",
   "metadata": {},
   "outputs": [
    {
     "name": "stdout",
     "output_type": "stream",
     "text": [
      "{'role': 'banner', 'class': ['navbar', 'fixed-top', 'navbar-expand-lg', 'navbar-dark', 'navbar-static', 'svg-background'], 'id': 'navbar-top'}\n"
     ]
    }
   ],
   "source": [
    "soup = BeautifulSoup(r.text,\"lxml\")\n",
    "tag = soup.header\n",
    "print(tag.attrs)"
   ]
  },
  {
   "cell_type": "markdown",
   "id": "6bec50f5-5eca-458b-9414-590af6bccf6c",
   "metadata": {},
   "source": [
    "# Navigable string every text in website is nstring"
   ]
  },
  {
   "cell_type": "code",
   "execution_count": 9,
   "id": "799d71a1-dccb-42df-8d34-a6ccc213838b",
   "metadata": {},
   "outputs": [
    {
     "name": "stdout",
     "output_type": "stream",
     "text": [
      "Toggle navigation\n"
     ]
    }
   ],
   "source": [
    "soup = BeautifulSoup(r.text,\"lxml\")\n",
    "tag = soup.header.div.a.button.span.string\n",
    "print(tag)\n"
   ]
  },
  {
   "cell_type": "markdown",
   "id": "0ec25984-8bc5-4c6c-97d5-4bae1853d937",
   "metadata": {},
   "source": [
    "# FIND FUNCTION"
   ]
  },
  {
   "cell_type": "code",
   "execution_count": 10,
   "id": "2bd68fa8-2164-45c5-bd75-117e9c341772",
   "metadata": {},
   "outputs": [
    {
     "name": "stdout",
     "output_type": "stream",
     "text": [
      "<div class=\"container\">\n",
      "<div class=\"navbar-header\">\n",
      "<a data-bs-target=\".side-collapse\" data-bs-target-2=\".side-collapse-container\" data-bs-toggle=\"collapse-side\">\n",
      "<button aria-controls=\"navbar\" aria-expanded=\"false\" class=\"navbar-toggler float-end collapsed\" data-bs-target=\"#navbar\" data-bs-target-2=\".side-collapse-container\" data-bs-target-3=\".side-collapse\" data-bs-toggle=\"collapse\" type=\"button\">\n",
      "<span class=\"visually-hidden\">Toggle navigation</span>\n",
      "<span class=\"icon-bar top-bar\"></span>\n",
      "<span class=\"icon-bar middle-bar\"></span>\n",
      "<span class=\"icon-bar bottom-bar\"></span>\n",
      "<span class=\"icon-bar extra-bottom-bar\"></span>\n",
      "</button>\n",
      "</a>\n",
      "<div class=\"navbar-brand\">\n",
      "<a href=\"/\"><img alt=\"Web Scraper\" src=\"/img/logo_white.svg\"/></a>\n",
      "</div>\n",
      "</div>\n",
      "<div class=\"side-collapse in\">\n",
      "<nav class=\"navbar-collapse collapse\" id=\"navbar\" role=\"navigation\">\n",
      "<ul class=\"nav navbar-nav navbar-right\">\n",
      "<li class=\"nav-item\">\n",
      "<a class=\"nav-link menuitm\" href=\"/\">\n",
      "<p>Web Scraper</p>\n",
      "<div class=\"crta\"></div>\n",
      "</a>\n",
      "</li>\n",
      "<li class=\"nav-item\">\n",
      "<a class=\"nav-link menuitm\" href=\"/cloud-scraper\" id=\"cloud-nav-link\">\n",
      "<p>Cloud Scraper</p>\n",
      "<div class=\"crta\"></div>\n",
      "</a>\n",
      "</li>\n",
      "<li class=\"nav-item\">\n",
      "<a class=\"nav-link menuitm\" href=\"/pricing\" id=\"pricing-nav-link\">\n",
      "<p>Pricing</p>\n",
      "<div class=\"crta\"></div>\n",
      "</a>\n",
      "</li>\n",
      "<li class=\"nav-item dropdown\">\n",
      "<button aria-expanded=\"false\" aria-haspopup=\"true\" class=\"menuitm nav-link dropdown-toggle\" data-bs-toggle=\"dropdown\" id=\"dropdownMenuLink\" role=\"button\">\n",
      "<p>Learn</p>\n",
      "<span class=\"crta\"></span>\n",
      "</button>\n",
      "<ul aria-labelledby=\"dropdownMenuLink\" class=\"dropdown-menu\">\n",
      "<li>\n",
      "<a class=\"dropdown-item\" href=\"/documentation\">Documentation</a>\n",
      "</li>\n",
      "<li>\n",
      "<a class=\"dropdown-item\" href=\"/tutorials\">Video Tutorials</a>\n",
      "</li>\n",
      "<li>\n",
      "<a class=\"dropdown-item\" href=\"/how-to-videos\">How to</a>\n",
      "</li>\n",
      "<li>\n",
      "<a class=\"dropdown-item\" href=\"/test-sites\">Test Sites</a>\n",
      "</li>\n",
      "<li>\n",
      "<a class=\"dropdown-item\" href=\"https://forum.webscraper.io/\" rel=\"noopener\" target=\"_blank\">Forum</a>\n",
      "</li>\n",
      "</ul>\n",
      "</li>\n",
      "<li class=\"nav-item\">\n",
      "<a class=\"nav-link btn-menu1 install-extension\" href=\"https://chromewebstore.google.com/detail/web-scraper-free-web-scra/jnhgnonknehpejjnehehllkliplmbmhn?hl=en\" target=\"_blank\">Install</a>\n",
      "</li>\n",
      "<li class=\"nav-item\">\n",
      "<a class=\"nav-link btn-menu2\" href=\"https://cloud.webscraper.io/\">Cloud Login</a>\n",
      "</li>\n",
      "</ul>\n",
      "</nav>\n",
      "</div>\n",
      "</div>\n"
     ]
    }
   ],
   "source": [
    "soup = BeautifulSoup(r.text,\"lxml\")\n",
    "print(soup.find('div'))"
   ]
  },
  {
   "cell_type": "code",
   "execution_count": 15,
   "id": "85285530-424b-4add-9997-ff9b1cd5ac0b",
   "metadata": {},
   "outputs": [],
   "source": [
    "import requests\n",
    "from bs4 import BeautifulSoup\n",
    "\n",
    "# Send a request to the target URL\n",
    "url = \"https://webscraper.io/test-sites/e-commerce/allinone\"\n",
    "r = requests.get(url)\n",
    "\n",
    "# Parse the response content with BeautifulSoup and lxml\n",
    "soup = BeautifulSoup(r.text, \"lxml\")\n",
    "\n",
    "# Find all prices (h4 tags with class 'pull-right price')\n",
    "prices = soup.find_all(\"h4\", class_=\"pull-right price\")\n",
    "\n",
    "# Loop through the prices and print the text (which contains the price)\n",
    "for price in prices:\n",
    "    print(price.text)\n"
   ]
  },
  {
   "cell_type": "code",
   "execution_count": 16,
   "id": "1a56e1c5-5704-4a47-8ff5-724d76478084",
   "metadata": {},
   "outputs": [
    {
     "name": "stdout",
     "output_type": "stream",
     "text": [
      "<!DOCTYPE html>\n",
      "<html lang=\"en\">\n",
      "<head>\n",
      "\t<!-- Google Tag Manager -->\n",
      "<script nonce=\"wWpBZWUxx5jFKcbRkxEnEEsYKQg42U7f\">(function (w, d, s, l, i) {\n",
      "\t\tw[l] = w[l] || [];\n",
      "\t\tw[l].push({\n",
      "\t\t\t'gtm.start':\n",
      "\t\t\t\tnew Date().getTime(), event: 'gtm.js'\n",
      "\t\t});\n",
      "\t\tvar f = d.getElementsByTagName(s)[0],\n",
      "\t\t\tj = d.createElement(s), dl = l != 'dataLayer' ? '&l=' + l : '';\n",
      "\t\tj.async = true;\n",
      "\t\tj.src =\n",
      "\t\t\t'https://www.googletagmanager.com/gtm.js?id=' + i + dl;\n",
      "\t\tf.parentNode.insertBefore(j, f);\n",
      "\t})(window, document, 'script', 'dataLayer', 'GTM-NVFPDWB');</script>\n",
      "<!-- End Google Tag Manager -->\n",
      "\t<title>Allinone | Web Scraper Test Sites</title>\n",
      "\t<meta charset=\"utf-8\">\n",
      "\t<meta http-equiv=\"X-UA-Compatible\" content=\"IE=edge,chrome=1\">\n",
      "\n",
      "\t<meta name=\"keywords\"\n",
      "\t\t  content=\"web scraping,Web Scraper,Chrome extension,Crawling,Cross platform scraper\"/>\n",
      "\t<meta name=\"description\"\n",
      "\t\t  content=\"The most popular web scraping extension. Start scraping in minutes. Automate your tasks with our Cloud Scraper. No software to downlo\n"
     ]
    }
   ],
   "source": [
    "print(r.text[:1000])"
   ]
  },
  {
   "cell_type": "code",
   "execution_count": 17,
   "id": "a6786196-d7de-4143-b260-1a0bb6fad83e",
   "metadata": {},
   "outputs": [
    {
     "name": "stdout",
     "output_type": "stream",
     "text": [
      "<!DOCTYPE html>\n",
      "<html lang=\"en\">\n",
      " <head>\n",
      "  <!-- Google Tag Manager -->\n",
      "  <script nonce=\"wWpBZWUxx5jFKcbRkxEnEEsYKQg42U7f\">\n",
      "   (function (w, d, s, l, i) {\n",
      "\t\tw[l] = w[l] || [];\n",
      "\t\tw[l].push({\n",
      "\t\t\t'gtm.start':\n",
      "\t\t\t\tnew Date().getTime(), event: 'gtm.js'\n",
      "\t\t});\n",
      "\t\tvar f = d.getElementsByTagName(s)[0],\n",
      "\t\t\tj = d.createElement(s), dl = l != 'dataLayer' ? '&l=' + l : '';\n",
      "\t\tj.async = true;\n",
      "\t\tj.src =\n",
      "\t\t\t'https://www.googletagmanager.com/gtm.js?id=' + i + dl;\n",
      "\t\tf.parentNode.insertBefore(j, f);\n",
      "\t})(window, document, 'script', 'dataLayer', 'GTM-NVFPDWB');\n",
      "  </script>\n",
      "  <!-- End Google Tag Manager -->\n",
      "  <title>\n",
      "   Allinone | Web Scraper Test Sites\n",
      "  </title>\n",
      "  <meta charset=\"utf-8\"/>\n",
      "  <meta content=\"IE=edge,chrome=1\" http-equiv=\"X-UA-Compatible\"/>\n",
      "  <meta content=\"web scraping,Web Scraper,Chrome extension,Crawling,Cross platform scraper\" name=\"keywords\"/>\n",
      "  <meta content=\"The most popular web scraping extension. Start scraping in minutes. Automate your tasks with our Cloud Scraper. No software to downloa\n",
      "Found prices: 3\n",
      "$899.99\n",
      "$379.94\n",
      "$1310.39\n"
     ]
    }
   ],
   "source": [
    "import requests\n",
    "from bs4 import BeautifulSoup\n",
    "\n",
    "# Send a request to the target URL\n",
    "url = \"https://webscraper.io/test-sites/e-commerce/allinone\"\n",
    "r = requests.get(url)\n",
    "\n",
    "# Parse the response content with BeautifulSoup and lxml\n",
    "soup = BeautifulSoup(r.text, \"lxml\")\n",
    "\n",
    "# Print a small part of the HTML to verify structure\n",
    "print(soup.prettify()[:1000])\n",
    "\n",
    "# Find all elements with 'price' class\n",
    "prices = soup.find_all(class_=\"price\")\n",
    "\n",
    "# Check if the class name is different, or print all 'h4' tags\n",
    "print(\"Found prices:\", len(prices))\n",
    "\n",
    "for price in prices:\n",
    "    print(price.text)\n"
   ]
  },
  {
   "cell_type": "markdown",
   "id": "e7d8eb4c-325a-4577-8721-6a2ea3187d8f",
   "metadata": {},
   "source": [
    "# List of Galaxy Products"
   ]
  },
  {
   "cell_type": "code",
   "execution_count": 21,
   "id": "1621cb7b-b183-4d69-b8ec-7c2eae03e570",
   "metadata": {},
   "outputs": [
    {
     "name": "stdout",
     "output_type": "stream",
     "text": [
      "['Galaxy Tab 3', 'Galaxy Tab 3', 'Galaxy Tab 4', 'Galaxy Tab', 'Galaxy Note', 'Galaxy Note', 'Galaxy Note 10...']\n"
     ]
    }
   ],
   "source": [
    "import requests\n",
    "from bs4 import BeautifulSoup\n",
    "import re\n",
    "\n",
    "# Define the URL to scrape\n",
    "url = \"https://webscraper.io/test-sites/e-commerce/allinone/computers/tablets\"\n",
    "\n",
    "# Make the request to the URL\n",
    "r = requests.get(url)\n",
    "\n",
    "# Parse the HTML content of the page\n",
    "soup = BeautifulSoup(r.text, \"lxml\")\n",
    "\n",
    "# Find all strings that match the pattern \"Galaxy\"\n",
    "data = soup.find_all(string=re.compile(\"Galaxy\"))\n",
    "\n",
    "# Print the matching data\n",
    "print(data)\n",
    "\n"
   ]
  },
  {
   "cell_type": "code",
   "execution_count": 22,
   "id": "4621db34-80d5-44da-9aad-fa88abee7732",
   "metadata": {},
   "outputs": [
    {
     "name": "stdout",
     "output_type": "stream",
     "text": [
      "['Lenovo IdeaTab', 'IdeaTab A3500L', 'Acer Iconia', 'Galaxy Tab 3', 'Iconia B1-730H...', 'Memo Pad HD 7', 'Asus MeMO Pad', 'Amazon Kindle', 'Galaxy Tab 3', 'IdeaTab A8-50', 'MeMO Pad 7', 'IdeaTab A3500-...', 'IdeaTab S5000', 'Galaxy Tab 4', 'Galaxy Tab', 'MeMo PAD FHD 1...', 'Galaxy Note', 'Galaxy Note', 'iPad Mini Reti...', 'Galaxy Note 10...', 'Apple iPad Air']\n"
     ]
    }
   ],
   "source": [
    "import pandas as pd\n",
    "import requests\n",
    "from bs4 import BeautifulSoup\n",
    "\n",
    "# Define the URL to scrape\n",
    "url = \"https://webscraper.io/test-sites/e-commerce/allinone/computers/tablets\"\n",
    "r = requests.get(url)\n",
    "soup = BeautifulSoup(r.text, \"lxml\")\n",
    "\n",
    "# Extract product names\n",
    "names = soup.find_all(\"a\", class_=\"title\")\n",
    "product_name = [i.text for i in names]  # List comprehension to get text directly\n",
    "\n",
    "print(product_name)  # Prints the list of product names\n"
   ]
  },
  {
   "cell_type": "markdown",
   "id": "a907705f-618a-4ee2-80ed-9077e99619e9",
   "metadata": {},
   "source": [
    "# List of Product Names"
   ]
  },
  {
   "cell_type": "code",
   "execution_count": 22,
   "id": "38dfe667-599b-4aa4-8b6f-14f0ad0da526",
   "metadata": {},
   "outputs": [
    {
     "name": "stdout",
     "output_type": "stream",
     "text": [
      "['Lenovo IdeaTab', 'IdeaTab A3500L', 'Acer Iconia', 'Galaxy Tab 3', 'Iconia B1-730H...', 'Memo Pad HD 7', 'Asus MeMO Pad', 'Amazon Kindle', 'Galaxy Tab 3', 'IdeaTab A8-50', 'MeMO Pad 7', 'IdeaTab A3500-...', 'IdeaTab S5000', 'Galaxy Tab 4', 'Galaxy Tab', 'MeMo PAD FHD 1...', 'Galaxy Note', 'Galaxy Note', 'iPad Mini Reti...', 'Galaxy Note 10...', 'Apple iPad Air']\n"
     ]
    }
   ],
   "source": [
    "import pandas as pd\n",
    "import requests\n",
    "from bs4 import BeautifulSoup\n",
    "\n",
    "# Define the URL to scrape\n",
    "url = \"https://webscraper.io/test-sites/e-commerce/allinone/computers/tablets\"\n",
    "r = requests.get(url)\n",
    "soup = BeautifulSoup(r.text, \"lxml\")\n",
    "\n",
    "# Extract product names\n",
    "names = soup.find_all(\"a\", class_=\"title\")\n",
    "product_name = [i.text for i in names]  # List comprehension to get text directly\n",
    "\n",
    "print(product_name)  # Prints the list of product names\n"
   ]
  },
  {
   "cell_type": "markdown",
   "id": "d30209da-e271-4215-9a9a-554ff39cc38c",
   "metadata": {},
   "source": [
    "# Extract product descriptions"
   ]
  },
  {
   "cell_type": "code",
   "execution_count": 23,
   "id": "664e5ff3-2aa0-43f0-9a86-a61638d221de",
   "metadata": {},
   "outputs": [
    {
     "name": "stdout",
     "output_type": "stream",
     "text": [
      "['7\" screen, Android', 'Black, 7\" IPS, Quad-Core 1.2GHz, 8GB, Android 4.2', '7\" screen, Android, 16GB', '7\", 8GB, Wi-Fi, Android 4.2, White', 'Black, 7\", 1.6GHz Dual-Core, 8GB, Android 4.4', 'IPS, Dual-Core 1.2GHz, 8GB, Android 4.3', '7\" screen, Android, 8GB', '6\" screen, wifi', '7\", 8GB, Wi-Fi, Android 4.2, Yellow', 'Blue, 8\" IPS, Quad-Core 1.3GHz, 16GB, Android 4.2', 'White, 7\", Atom 1.2GHz, 8GB, Android 4.4', 'Blue, 7\" IPS, Quad-Core 1.3GHz, 8GB, 3G, Android 4.2', 'Silver, 7\" IPS, Quad-Core 1.2Ghz, 16GB, 3G, Android 4.2', 'LTE (SM-T235), Quad-Core 1.2GHz, 8GB, Black', '16GB, White', 'White, 10.1\" IPS, 1.6GHz, 2GB, 16GB, Android 4.2', '10.1\", 3G, Android 4.0, Garnet Red', '12.2\", 32GB, WiFi, Android 4.4, White', 'Wi-Fi + Cellular, 32GB, Silver', '10.1\", 32GB, Black', 'Wi-Fi, 64GB, Silver']\n"
     ]
    }
   ],
   "source": [
    "\n",
    "descriptions = soup.find_all(\"p\", class_=\"description card-text\")\n",
    "descriptions_list = [i.text for i in descriptions]\n",
    "\n",
    "print(descriptions_list)  # Prints the list of descriptions"
   ]
  },
  {
   "cell_type": "markdown",
   "id": "f2a3b2b0-02db-49dd-a068-e077e3af55d4",
   "metadata": {},
   "source": [
    "# Extract product prices"
   ]
  },
  {
   "cell_type": "code",
   "execution_count": 24,
   "id": "63bbe422-4bf3-4c50-b4ad-b36b5fb2604b",
   "metadata": {},
   "outputs": [
    {
     "name": "stdout",
     "output_type": "stream",
     "text": [
      "['$69.99', '$88.99', '$96.99', '$97.99', '$99.99', '$101.99', '$102.99', '$103.99', '$107.99', '$121.99', '$130.99', '$148.99', '$172.99', '$233.99', '$251.99', '$320.99', '$399.99', '$489.99', '$537.99', '$587.99', '$603.99']\n"
     ]
    }
   ],
   "source": [
    "\n",
    "prices = soup.find_all(\"h4\", class_=\"price float-end card-title pull-right\")\n",
    "prices_list = [i.text for i in prices]\n",
    "\n",
    "print(prices_list)  # Prints the list of prices\n"
   ]
  },
  {
   "cell_type": "markdown",
   "id": "962b4887-6cf2-486b-ac2b-686c42d3cbba",
   "metadata": {},
   "source": [
    "# Info of Products"
   ]
  },
  {
   "cell_type": "code",
   "execution_count": 25,
   "id": "96d25727-d4ed-441f-a8af-d15dc79d1c90",
   "metadata": {},
   "outputs": [
    {
     "name": "stdout",
     "output_type": "stream",
     "text": [
      "Product Name: Lenovo IdeaTab\n",
      "Price: $69.99\n",
      "Description: 7\" screen, Android\n",
      "----------------------------------------\n",
      "Product Name: IdeaTab A3500L\n",
      "Price: $88.99\n",
      "Description: Black, 7\" IPS, Quad-Core 1.2GHz, 8GB, Android 4.2\n",
      "----------------------------------------\n",
      "Product Name: Acer Iconia\n",
      "Price: $96.99\n",
      "Description: 7\" screen, Android, 16GB\n",
      "----------------------------------------\n",
      "Product Name: Galaxy Tab 3\n",
      "Price: $97.99\n",
      "Description: 7\", 8GB, Wi-Fi, Android 4.2, White\n",
      "----------------------------------------\n",
      "Product Name: Iconia B1-730H...\n",
      "Price: $99.99\n",
      "Description: Black, 7\", 1.6GHz Dual-Core, 8GB, Android 4.4\n",
      "----------------------------------------\n",
      "Product Name: Memo Pad HD 7\n",
      "Price: $101.99\n",
      "Description: IPS, Dual-Core 1.2GHz, 8GB, Android 4.3\n",
      "----------------------------------------\n",
      "Product Name: Asus MeMO Pad\n",
      "Price: $102.99\n",
      "Description: 7\" screen, Android, 8GB\n",
      "----------------------------------------\n",
      "Product Name: Amazon Kindle\n",
      "Price: $103.99\n",
      "Description: 6\" screen, wifi\n",
      "----------------------------------------\n",
      "Product Name: Galaxy Tab 3\n",
      "Price: $107.99\n",
      "Description: 7\", 8GB, Wi-Fi, Android 4.2, Yellow\n",
      "----------------------------------------\n",
      "Product Name: IdeaTab A8-50\n",
      "Price: $121.99\n",
      "Description: Blue, 8\" IPS, Quad-Core 1.3GHz, 16GB, Android 4.2\n",
      "----------------------------------------\n",
      "Product Name: MeMO Pad 7\n",
      "Price: $130.99\n",
      "Description: White, 7\", Atom 1.2GHz, 8GB, Android 4.4\n",
      "----------------------------------------\n",
      "Product Name: IdeaTab A3500-...\n",
      "Price: $148.99\n",
      "Description: Blue, 7\" IPS, Quad-Core 1.3GHz, 8GB, 3G, Android 4.2\n",
      "----------------------------------------\n",
      "Product Name: IdeaTab S5000\n",
      "Price: $172.99\n",
      "Description: Silver, 7\" IPS, Quad-Core 1.2Ghz, 16GB, 3G, Android 4.2\n",
      "----------------------------------------\n",
      "Product Name: Galaxy Tab 4\n",
      "Price: $233.99\n",
      "Description: LTE (SM-T235), Quad-Core 1.2GHz, 8GB, Black\n",
      "----------------------------------------\n",
      "Product Name: Galaxy Tab\n",
      "Price: $251.99\n",
      "Description: 16GB, White\n",
      "----------------------------------------\n",
      "Product Name: MeMo PAD FHD 1...\n",
      "Price: $320.99\n",
      "Description: White, 10.1\" IPS, 1.6GHz, 2GB, 16GB, Android 4.2\n",
      "----------------------------------------\n",
      "Product Name: Galaxy Note\n",
      "Price: $399.99\n",
      "Description: 10.1\", 3G, Android 4.0, Garnet Red\n",
      "----------------------------------------\n",
      "Product Name: Galaxy Note\n",
      "Price: $489.99\n",
      "Description: 12.2\", 32GB, WiFi, Android 4.4, White\n",
      "----------------------------------------\n",
      "Product Name: iPad Mini Reti...\n",
      "Price: $537.99\n",
      "Description: Wi-Fi + Cellular, 32GB, Silver\n",
      "----------------------------------------\n",
      "Product Name: Galaxy Note 10...\n",
      "Price: $587.99\n",
      "Description: 10.1\", 32GB, Black\n",
      "----------------------------------------\n",
      "Product Name: Apple iPad Air\n",
      "Price: $603.99\n",
      "Description: Wi-Fi, 64GB, Silver\n",
      "----------------------------------------\n"
     ]
    }
   ],
   "source": [
    "names = soup.find_all(\"a\", class_=\"title\")\n",
    "prices = soup.find_all(\"h4\", class_=\"price float-end card-title pull-right\")\n",
    "descriptions = soup.find_all(\"p\", class_=\"description card-text\")\n",
    "\n",
    "# Loop through each product and print details in a readable format\n",
    "for name, price, description in zip(names, prices, descriptions):\n",
    "    print(f\"Product Name: {name.text.strip()}\")\n",
    "    print(f\"Price: {price.text.strip()}\")\n",
    "    print(f\"Description: {description.text.strip()}\")\n",
    "    print(\"-\" * 40)  # Divider between products for readability"
   ]
  },
  {
   "cell_type": "markdown",
   "id": "81a2fd71-4eda-43ae-8cf1-edd4fab6a74e",
   "metadata": {},
   "source": [
    "# Extract review counts"
   ]
  },
  {
   "cell_type": "code",
   "execution_count": 26,
   "id": "ccd40dfe-1712-4f52-a7cc-299447f5fdb4",
   "metadata": {},
   "outputs": [
    {
     "name": "stdout",
     "output_type": "stream",
     "text": [
      "Reviews:\n",
      "7 reviews\n",
      "7 reviews\n",
      "7 reviews\n",
      "2 reviews\n",
      "1 reviews\n",
      "10 reviews\n",
      "14 reviews\n",
      "3 reviews\n",
      "14 reviews\n",
      "13 reviews\n",
      "11 reviews\n",
      "9 reviews\n",
      "8 reviews\n",
      "1 reviews\n",
      "14 reviews\n",
      "7 reviews\n",
      "12 reviews\n",
      "9 reviews\n",
      "8 reviews\n",
      "6 reviews\n",
      "7 reviews\n"
     ]
    }
   ],
   "source": [
    "\n",
    "reviews = soup.find_all(\"p\", class_=\"review-count float-end\")\n",
    "reviews_list = [i.text.strip() for i in reviews]\n",
    "\n",
    "# Print the list of review counts\n",
    "print(\"Reviews:\")\n",
    "for review in reviews_list:\n",
    "    print(review)\n"
   ]
  },
  {
   "cell_type": "code",
   "execution_count": null,
   "id": "2c39eb65-43d3-49cc-8df3-939050ffd7c9",
   "metadata": {},
   "outputs": [],
   "source": [
    "# Loop through each product and print details in a readable format"
   ]
  },
  {
   "cell_type": "code",
   "execution_count": 27,
   "id": "b942fc1b-4ba1-4178-a213-018531ae0929",
   "metadata": {},
   "outputs": [
    {
     "name": "stdout",
     "output_type": "stream",
     "text": [
      "Product Name: Lenovo IdeaTab\n",
      "Price: $69.99\n",
      "Description: 7\" screen, Android\n",
      "Reviews: 7 reviews\n",
      "----------------------------------------\n",
      "Product Name: IdeaTab A3500L\n",
      "Price: $88.99\n",
      "Description: Black, 7\" IPS, Quad-Core 1.2GHz, 8GB, Android 4.2\n",
      "Reviews: 7 reviews\n",
      "----------------------------------------\n",
      "Product Name: Acer Iconia\n",
      "Price: $96.99\n",
      "Description: 7\" screen, Android, 16GB\n",
      "Reviews: 7 reviews\n",
      "----------------------------------------\n",
      "Product Name: Galaxy Tab 3\n",
      "Price: $97.99\n",
      "Description: 7\", 8GB, Wi-Fi, Android 4.2, White\n",
      "Reviews: 2 reviews\n",
      "----------------------------------------\n",
      "Product Name: Iconia B1-730H...\n",
      "Price: $99.99\n",
      "Description: Black, 7\", 1.6GHz Dual-Core, 8GB, Android 4.4\n",
      "Reviews: 1 reviews\n",
      "----------------------------------------\n",
      "Product Name: Memo Pad HD 7\n",
      "Price: $101.99\n",
      "Description: IPS, Dual-Core 1.2GHz, 8GB, Android 4.3\n",
      "Reviews: 10 reviews\n",
      "----------------------------------------\n",
      "Product Name: Asus MeMO Pad\n",
      "Price: $102.99\n",
      "Description: 7\" screen, Android, 8GB\n",
      "Reviews: 14 reviews\n",
      "----------------------------------------\n",
      "Product Name: Amazon Kindle\n",
      "Price: $103.99\n",
      "Description: 6\" screen, wifi\n",
      "Reviews: 3 reviews\n",
      "----------------------------------------\n",
      "Product Name: Galaxy Tab 3\n",
      "Price: $107.99\n",
      "Description: 7\", 8GB, Wi-Fi, Android 4.2, Yellow\n",
      "Reviews: 14 reviews\n",
      "----------------------------------------\n",
      "Product Name: IdeaTab A8-50\n",
      "Price: $121.99\n",
      "Description: Blue, 8\" IPS, Quad-Core 1.3GHz, 16GB, Android 4.2\n",
      "Reviews: 13 reviews\n",
      "----------------------------------------\n",
      "Product Name: MeMO Pad 7\n",
      "Price: $130.99\n",
      "Description: White, 7\", Atom 1.2GHz, 8GB, Android 4.4\n",
      "Reviews: 11 reviews\n",
      "----------------------------------------\n",
      "Product Name: IdeaTab A3500-...\n",
      "Price: $148.99\n",
      "Description: Blue, 7\" IPS, Quad-Core 1.3GHz, 8GB, 3G, Android 4.2\n",
      "Reviews: 9 reviews\n",
      "----------------------------------------\n",
      "Product Name: IdeaTab S5000\n",
      "Price: $172.99\n",
      "Description: Silver, 7\" IPS, Quad-Core 1.2Ghz, 16GB, 3G, Android 4.2\n",
      "Reviews: 8 reviews\n",
      "----------------------------------------\n",
      "Product Name: Galaxy Tab 4\n",
      "Price: $233.99\n",
      "Description: LTE (SM-T235), Quad-Core 1.2GHz, 8GB, Black\n",
      "Reviews: 1 reviews\n",
      "----------------------------------------\n",
      "Product Name: Galaxy Tab\n",
      "Price: $251.99\n",
      "Description: 16GB, White\n",
      "Reviews: 14 reviews\n",
      "----------------------------------------\n",
      "Product Name: MeMo PAD FHD 1...\n",
      "Price: $320.99\n",
      "Description: White, 10.1\" IPS, 1.6GHz, 2GB, 16GB, Android 4.2\n",
      "Reviews: 7 reviews\n",
      "----------------------------------------\n",
      "Product Name: Galaxy Note\n",
      "Price: $399.99\n",
      "Description: 10.1\", 3G, Android 4.0, Garnet Red\n",
      "Reviews: 12 reviews\n",
      "----------------------------------------\n",
      "Product Name: Galaxy Note\n",
      "Price: $489.99\n",
      "Description: 12.2\", 32GB, WiFi, Android 4.4, White\n",
      "Reviews: 9 reviews\n",
      "----------------------------------------\n",
      "Product Name: iPad Mini Reti...\n",
      "Price: $537.99\n",
      "Description: Wi-Fi + Cellular, 32GB, Silver\n",
      "Reviews: 8 reviews\n",
      "----------------------------------------\n",
      "Product Name: Galaxy Note 10...\n",
      "Price: $587.99\n",
      "Description: 10.1\", 32GB, Black\n",
      "Reviews: 6 reviews\n",
      "----------------------------------------\n",
      "Product Name: Apple iPad Air\n",
      "Price: $603.99\n",
      "Description: Wi-Fi, 64GB, Silver\n",
      "Reviews: 7 reviews\n",
      "----------------------------------------\n"
     ]
    }
   ],
   "source": [
    "\n",
    "for name, price, description, review in zip(names, prices, descriptions, reviews):\n",
    "    print(f\"Product Name: {name.text.strip()}\")\n",
    "    print(f\"Price: {price.text.strip()}\")\n",
    "    print(f\"Description: {description.text.strip()}\")\n",
    "    print(f\"Reviews: {review.text.strip()}\")\n",
    "    print(\"-\" * 40)  # Divider between products for readability"
   ]
  },
  {
   "cell_type": "markdown",
   "id": "9974e3d3-24c5-4668-b576-9acfebe19c28",
   "metadata": {},
   "source": [
    "# Extract data from nested html tags"
   ]
  },
  {
   "cell_type": "code",
   "execution_count": 30,
   "id": "4c26987f-fa73-4382-97c7-043a93064d49",
   "metadata": {},
   "outputs": [
    {
     "name": "stdout",
     "output_type": "stream",
     "text": [
      "Product Name: Lenovo IdeaTab\n",
      "Price: $69.99\n",
      "Description: 7\" screen, Android\n",
      "Reviews: 7 reviews\n"
     ]
    }
   ],
   "source": [
    "import requests\n",
    "from bs4 import BeautifulSoup\n",
    "\n",
    "# Define the URL to scrape\n",
    "url = \"https://webscraper.io/test-sites/e-commerce/allinone/computers/tablets\"\n",
    "r = requests.get(url)\n",
    "soup = BeautifulSoup(r.text, \"lxml\")\n",
    "\n",
    "# Find the specific product (the first product in this case)\n",
    "product_div = soup.find(\"div\", class_=\"col-md-4 col-xl-4 col-lg-4\")\n",
    "\n",
    "# Extract product details\n",
    "name = product_div.find(\"a\", class_=\"title\").text.strip()\n",
    "price = product_div.find(\"h4\", class_=\"price float-end card-title pull-right\").text.strip()\n",
    "description = product_div.find(\"p\", class_=\"description card-text\").text.strip()\n",
    "reviews = product_div.find(\"p\", class_=\"review-count float-end\").text.strip()\n",
    "\n",
    "# Print extracted data\n",
    "print(f\"Product Name: {name}\")\n",
    "print(f\"Price: {price}\")\n",
    "print(f\"Description: {description}\")\n",
    "print(f\"Reviews: {reviews}\")\n"
   ]
  },
  {
   "cell_type": "code",
   "execution_count": 31,
   "id": "b003a340-2b81-4f2e-8c90-b249280b6042",
   "metadata": {},
   "outputs": [],
   "source": [
    "boxes =soup.find_all(\"div\",class_ = \"col-md-4 col-xl-4 col-lg-4\")"
   ]
  },
  {
   "cell_type": "code",
   "execution_count": 32,
   "id": "1165fe84-d55c-4ee3-9600-86281423f9b7",
   "metadata": {},
   "outputs": [
    {
     "name": "stdout",
     "output_type": "stream",
     "text": [
      "21\n"
     ]
    }
   ],
   "source": [
    "print(len(boxes))"
   ]
  },
  {
   "cell_type": "code",
   "execution_count": null,
   "id": "bc95b775-089a-4b46-8a08-782a56b63cc1",
   "metadata": {},
   "outputs": [],
   "source": [
    "# Print whatever on index 3"
   ]
  },
  {
   "cell_type": "code",
   "execution_count": 33,
   "id": "4a63ee9c-94ed-49d2-bbfb-a3a9379455dd",
   "metadata": {},
   "outputs": [
    {
     "name": "stdout",
     "output_type": "stream",
     "text": [
      "<div class=\"col-md-4 col-xl-4 col-lg-4\">\n",
      "<div class=\"card thumbnail\">\n",
      "<div class=\"product-wrapper card-body\">\n",
      "<img alt=\"item\" class=\"img-fluid card-img-top image img-responsive\" src=\"/images/test-sites/e-commerce/items/cart2.png\"/>\n",
      "<div class=\"caption\">\n",
      "<h4 class=\"price float-end card-title pull-right\">$97.99</h4>\n",
      "<h4>\n",
      "<a class=\"title\" href=\"/test-sites/e-commerce/allinone/product/18\" title=\"Galaxy Tab 3\">Galaxy Tab 3</a>\n",
      "</h4>\n",
      "<p class=\"description card-text\">7\", 8GB, Wi-Fi, Android 4.2, White</p>\n",
      "</div>\n",
      "<div class=\"ratings\">\n",
      "<p class=\"review-count float-end\">2 reviews</p>\n",
      "<p data-rating=\"2\">\n",
      "<span class=\"ws-icon ws-icon-star\"></span>\n",
      "<span class=\"ws-icon ws-icon-star\"></span>\n",
      "</p>\n",
      "</div>\n",
      "</div>\n",
      "</div>\n",
      "</div>\n"
     ]
    }
   ],
   "source": [
    "box = soup.find_all(\"div\",class_ = \"col-md-4 col-xl-4 col-lg-4\")[3]\n",
    "print(box)"
   ]
  },
  {
   "cell_type": "markdown",
   "id": "ed75fc98-a5ba-405a-abf2-63a6598dc57a",
   "metadata": {},
   "source": [
    "# Extract table from websites"
   ]
  },
  {
   "cell_type": "code",
   "execution_count": 36,
   "id": "8080570f-5d22-42be-bf51-a362edec1dca",
   "metadata": {},
   "outputs": [
    {
     "name": "stdout",
     "output_type": "stream",
     "text": [
      "<Response [200]>\n"
     ]
    }
   ],
   "source": [
    "import requests\n",
    "from bs4 import BeautifulSoup\n",
    "\n",
    "# Define the URL to scrape\n",
    "url = \"https://webscraper.io/test-sites/tables\"\n",
    "r = requests.get(url)\n",
    "print(r)\n"
   ]
  },
  {
   "cell_type": "code",
   "execution_count": 37,
   "id": "20b584cb-fc1d-407f-9501-008449745953",
   "metadata": {},
   "outputs": [],
   "source": [
    "soup = BeautifulSoup(r.text, \"lxml\")"
   ]
  },
  {
   "cell_type": "code",
   "execution_count": 38,
   "id": "aaf19865-7596-4d32-ad29-793ca0bf2ffe",
   "metadata": {},
   "outputs": [
    {
     "name": "stdout",
     "output_type": "stream",
     "text": [
      "[<th>#</th>, <th>First Name</th>, <th>Last Name</th>, <th>Username</th>]\n"
     ]
    }
   ],
   "source": [
    "table = soup.find(\"table\",class_ = \"table table-bordered\")\n",
    "headers =table.find_all(\"th\")\n",
    "print(headers)"
   ]
  },
  {
   "cell_type": "code",
   "execution_count": 39,
   "id": "f9b62316-6b55-4d80-a309-8f33aaf5fbbf",
   "metadata": {},
   "outputs": [
    {
     "name": "stdout",
     "output_type": "stream",
     "text": [
      "Headers: ['#', 'First Name', 'Last Name', 'Username']\n"
     ]
    }
   ],
   "source": [
    "# Find the table\n",
    "table = soup.find(\"table\", class_=\"table table-bordered\")\n",
    "\n",
    "# Extract headers\n",
    "headers = table.find_all(\"th\")\n",
    "titles = [header.text.strip() for header in headers]  # List comprehension to extract titles\n",
    "\n",
    "# Print the extracted titles\n",
    "print(\"Headers:\", titles)"
   ]
  },
  {
   "cell_type": "code",
   "execution_count": 40,
   "id": "2b445c58-cb65-4917-b7df-6693b5ddd575",
   "metadata": {},
   "outputs": [
    {
     "name": "stdout",
     "output_type": "stream",
     "text": [
      "Headers: ['#', 'First Name', 'Last Name', 'Username']\n",
      "Data:\n",
      "['1', 'Mark', 'Otto', '@mdo']\n",
      "['2', 'Jacob', 'Thornton', '@fat']\n",
      "['3', 'Larry', 'the Bird', '@twitter']\n"
     ]
    }
   ],
   "source": [
    "headers = table.find_all(\"th\")\n",
    "titles = [header.text.strip() for header in headers]\n",
    "\n",
    "\n",
    "# Extract data from the rows\n",
    "data_rows = []\n",
    "for row in table.find_all(\"tr\")[1:]:  # Skip header row\n",
    "    cols = row.find_all(\"td\")\n",
    "    data_row = [col.text.strip() for col in cols]  # Extract text and strip whitespace\n",
    "    data_rows.append(data_row)\n",
    "\n",
    "# Print the results\n",
    "print(\"Headers:\", titles)\n",
    "print(\"Data:\")\n",
    "for data in data_rows:\n",
    "    print(data)"
   ]
  },
  {
   "cell_type": "code",
   "execution_count": 41,
   "id": "fcfb7bba-84da-4ae3-9f88-c6021ddbbd52",
   "metadata": {},
   "outputs": [
    {
     "name": "stdout",
     "output_type": "stream",
     "text": [
      "[<tr>\n",
      "<th>#</th>\n",
      "<th>First Name</th>\n",
      "<th>Last Name</th>\n",
      "<th>Username</th>\n",
      "</tr>, <tr>\n",
      "<td>1</td>\n",
      "<td>Mark</td>\n",
      "<td>Otto</td>\n",
      "<td>@mdo</td>\n",
      "</tr>, <tr>\n",
      "<td>2</td>\n",
      "<td>Jacob</td>\n",
      "<td>Thornton</td>\n",
      "<td>@fat</td>\n",
      "</tr>, <tr>\n",
      "<td>3</td>\n",
      "<td>Larry</td>\n",
      "<td>the Bird</td>\n",
      "<td>@twitter</td>\n",
      "</tr>]\n",
      "\n",
      "1\n",
      "Mark\n",
      "Otto\n",
      "@mdo\n",
      "\n",
      "\n",
      "2\n",
      "Jacob\n",
      "Thornton\n",
      "@fat\n",
      "\n",
      "\n",
      "3\n",
      "Larry\n",
      "the Bird\n",
      "@twitter\n",
      "\n"
     ]
    }
   ],
   "source": [
    "rows = table.find_all(\"tr\")\n",
    "print(rows)\n",
    "\n",
    "for i in rows[1:]:\n",
    "    print(i.text)"
   ]
  },
  {
   "cell_type": "code",
   "execution_count": 42,
   "id": "936675be-f685-4de2-9d45-cf44c88fc047",
   "metadata": {},
   "outputs": [
    {
     "name": "stdout",
     "output_type": "stream",
     "text": [
      "   # First Name Last Name  Username\n",
      "0  1       Mark      Otto      @mdo\n",
      "1  2      Jacob  Thornton      @fat\n",
      "2  3      Larry  the Bird  @twitter\n"
     ]
    }
   ],
   "source": [
    "# Create a DataFrame with headers\n",
    "df = pd.DataFrame(columns=[header.text for header in table.find_all(\"th\")])\n",
    "\n",
    "# Extract rows and populate the DataFrame\n",
    "for i in table.find_all(\"tr\")[1:]:\n",
    "    df.loc[len(df)] = [cell.text.strip() for cell in i.find_all(\"td\")]\n",
    "\n",
    "# Print the DataFrame\n",
    "print(df)"
   ]
  },
  {
   "cell_type": "code",
   "execution_count": 43,
   "id": "2f8629e6-167f-4bd9-aa48-c7ad9b9cdc76",
   "metadata": {},
   "outputs": [],
   "source": [
    "df.to_csv(\"output.csv\", index=False)"
   ]
  },
  {
   "cell_type": "code",
   "execution_count": 47,
   "id": "3253bbb8-fb27-43c7-a6a5-e893fa038da0",
   "metadata": {},
   "outputs": [
    {
     "name": "stdout",
     "output_type": "stream",
     "text": [
      "Index(['#', 'First Name', 'Last Name', 'Username'], dtype='object')\n"
     ]
    }
   ],
   "source": [
    "print(df.columns)\n"
   ]
  },
  {
   "cell_type": "code",
   "execution_count": 48,
   "id": "810acf87-40ba-4d27-95e8-add90503353b",
   "metadata": {},
   "outputs": [
    {
     "name": "stdout",
     "output_type": "stream",
     "text": [
      "   # First Name Last Name  Username\n",
      "0  1       Mark      Otto      @mdo\n",
      "1  2      Jacob  Thornton      @fat\n",
      "2  3      Larry  the Bird  @twitter\n"
     ]
    }
   ],
   "source": [
    "print(df.head())\n"
   ]
  }
 ],
 "metadata": {
  "kernelspec": {
   "display_name": "Python 3 (ipykernel)",
   "language": "python",
   "name": "python3"
  },
  "language_info": {
   "codemirror_mode": {
    "name": "ipython",
    "version": 3
   },
   "file_extension": ".py",
   "mimetype": "text/x-python",
   "name": "python",
   "nbconvert_exporter": "python",
   "pygments_lexer": "ipython3",
   "version": "3.13.0"
  }
 },
 "nbformat": 4,
 "nbformat_minor": 5
}
